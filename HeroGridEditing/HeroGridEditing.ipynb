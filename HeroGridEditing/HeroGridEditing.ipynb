{
 "cells": [
  {
   "cell_type": "markdown",
   "id": "b1244302-d539-4751-8376-b95906de39f4",
   "metadata": {},
   "source": [
    "### Dota Hero Grid Editor\n",
    "\n",
    "Json file in steam folder:\\\n",
    "`C:\\Program Files (x86)\\Steam\\userdata\\YOUR_FRIEND_ID\\570\\remote\\cfg\\hero_grid_config.json`\n",
    "\n",
    "let's copy it into our current folders to play with"
   ]
  },
  {
   "cell_type": "code",
   "execution_count": null,
   "id": "1adfc4ab-f4ea-41a7-bb21-0ff809801267",
   "metadata": {
    "pycharm": {
     "is_executing": true
    }
   },
   "outputs": [],
   "source": [
    "from dota_utils import *\n",
    "\n",
    "import shutil\n",
    "from config import DOTA_FRIENDID\n",
    "\n",
    "steam = f'C:\\\\Program Files (x86)\\\\Steam\\\\userdata\\\\{DOTA_FRIENDID}\\\\570\\\\remote\\\\cfg'\n",
    "json_name = '\\\\hero_grid_config.json'\n",
    "src = steam + json_name\n",
    "dst = '.'\n",
    "dst_saved = './saved' # just for fail-safe reasons\n",
    "shutil.copy2(src, dst)\n",
    "shutil.copy2(src, dst_saved)"
   ]
  },
  {
   "cell_type": "markdown",
   "id": "81367818-1dd6-4f01-874c-7608f0b02532",
   "metadata": {},
   "source": [
    "###"
   ]
  },
  {
   "cell_type": "code",
   "execution_count": 2,
   "id": "316fb78e-229c-4dc5-9392-43c8fa442897",
   "metadata": {},
   "outputs": [],
   "source": [
    "import json\n",
    "# READ FROM FILE\n",
    "with open('hero_grid_config.json') as json_file:\n",
    "    data = json.load(json_file)"
   ]
  },
  {
   "cell_type": "code",
   "execution_count": 5,
   "id": "2ebcd1b1-97ea-4b40-b551-af3e8985669c",
   "metadata": {},
   "outputs": [],
   "source": [
    "# WRITE INTO FILE \n",
    "with open('hero_grid_config.json', 'w', encoding='utf-8') as f:\n",
    "    json.dump(data, f, ensure_ascii=False, indent=4)"
   ]
  },
  {
   "cell_type": "markdown",
   "source": [],
   "metadata": {
    "collapsed": false
   }
  },
  {
   "cell_type": "code",
   "execution_count": null,
   "id": "0de5eb2d-eb10-4b25-b780-33b39c79dd6c",
   "metadata": {
    "pycharm": {
     "is_executing": true
    }
   },
   "outputs": [],
   "source": [
    "# copy file back to Steam folder when we are done\n",
    "src_laptop = dst + json_name\n",
    "shutil.copy2(src_laptop, steam)\n",
    "'' # so it  does not reveal my id xd"
   ]
  },
  {
   "cell_type": "markdown",
   "id": "a52bbccf-d952-4fb6-ab85-ec27ba141521",
   "metadata": {},
   "source": [
    "### Info\n",
    "```python\n",
    "max_x = 1200\n",
    "max_y = 598\n",
    "```\n",
    "`data['configs'][0]` is my main grid\\\n",
    "`data['configs'][1]` is Dota Plus levels grid"
   ]
  },
  {
   "cell_type": "markdown",
   "id": "f8be644b-2441-42cd-b697-93b973dcc817",
   "metadata": {},
   "source": [
    "### Dota Plus Levels Grid"
   ]
  },
  {
   "cell_type": "code",
   "execution_count": 39,
   "id": "00401140-b5a9-43ec-9873-256bb614bec4",
   "metadata": {},
   "outputs": [],
   "source": [
    "dict_help = { # top_left_x, top_left_y, width, height\n",
    "    'Grandmaster': [0, 0, 300, 100],\n",
    "    'Master':      [300, 0, 300, 100],\n",
    "    'Platinum':    [600, 0, 600, 100],\n",
    "    'Gold':        [0, 120, 600, 100],\n",
    "    'Silver':      [600, 120, 600, 100],\n",
    "    'Bronze':      [0, 240, 1200, 275 + 74],\n",
    "}\n",
    "\n",
    "for cat in data['configs'][1]['categories']:\n",
    "    array = dict_help[cat['category_name']]\n",
    "    cat['x_position'] = array[0]\n",
    "    cat['y_position'] = array[1]\n",
    "    cat['width'] = array[2]\n",
    "    cat['height'] = array[3]"
   ]
  },
  {
   "cell_type": "code",
   "execution_count": 189,
   "id": "489fc3da-7d49-4872-821b-8a479622d9ed",
   "metadata": {},
   "outputs": [
    {
     "data": {
      "text/plain": [
       "{'category_name': 'bans',\n",
       " 'x_position': 925,\n",
       " 'y_position': 529.0,\n",
       " 'width': 275,\n",
       " 'height': 69.0,\n",
       " 'hero_ids': [137, 88]}"
      ]
     },
     "execution_count": 189,
     "metadata": {},
     "output_type": "execute_result"
    }
   ],
   "source": [
    "data['configs'][0]['categories'][-1]"
   ]
  },
  {
   "cell_type": "code",
   "execution_count": null,
   "id": "5e746688-b05b-4955-8a07-cb504afe12e8",
   "metadata": {},
   "outputs": [],
   "source": []
  },
  {
   "cell_type": "code",
   "execution_count": null,
   "id": "521f86b3-1415-4202-a758-97a60babc75c",
   "metadata": {},
   "outputs": [],
   "source": []
  },
  {
   "cell_type": "markdown",
   "id": "563c15f7-41ab-4abf-b8b8-53442c4ab697",
   "metadata": {
    "tags": []
   },
   "source": [
    "### My default picking screen Grid"
   ]
  },
  {
   "cell_type": "code",
   "execution_count": null,
   "id": "c11f841c-ed6b-499d-ae3b-e6557086b555",
   "metadata": {},
   "outputs": [],
   "source": [
    "names = []\n",
    "for i in data['configs'][0]['categories'][0]['hero_ids']:\n",
    "    names.append(name_by_id(i))\n",
    "    \n",
    "new_names = sorted(names, key=str.casefold)\n",
    "\n",
    "new_ids = []\n",
    "for i in new_names:\n",
    "    new_ids.append(id_by_name(i))\n",
    "    \n",
    "data['configs'][0]['categories'][0]['hero_ids'] = new_ids\n",
    "print(new_ids)"
   ]
  },
  {
   "cell_type": "code",
   "execution_count": 4,
   "id": "42400264-5b53-4ef8-bfdd-c624e0c23bfe",
   "metadata": {},
   "outputs": [],
   "source": [
    "max_x = 1200\n",
    "max_y = 598\n",
    "\n",
    "height = 100\n",
    "delta_y = (max_y - 5 * height)/4\n",
    "\n",
    "pos_w = 6 * 58 # 7 for six heroes in pos 1\n",
    "others_x = pos_w + 1\n",
    "\n",
    "counter = 0\n",
    "\n",
    "def give_xywh(item, *, x, y, w, h):\n",
    "    item['x_position'] = x\n",
    "    item['y_position'] = y\n",
    "    item['width'] = w\n",
    "    item['height'] = h\n",
    "\n",
    "\n",
    "categories = data['configs'][0]['categories']\n",
    "for counter, item in enumerate(categories[0:5]):\n",
    "    give_xywh(\n",
    "        item,\n",
    "        x=0,\n",
    "        y=0 + (height + delta_y) * counter,\n",
    "        w=pos_w,\n",
    "        h=height\n",
    "    )\n",
    "\n",
    "ban_height = 70\n",
    "delta_others_y = 10\n",
    "ban_delta = 0\n",
    "for counter, item in enumerate(categories[6:9]):\n",
    "    give_xywh(\n",
    "        item,\n",
    "        x=others_x ,\n",
    "        y=counter * (max_y - ban_height)/3,\n",
    "        w=max_x - others_x ,\n",
    "        h=(max_y - ban_height - ban_delta - 2 * delta_others_y)/3\n",
    "    )\n",
    "\n",
    "\n",
    "give_xywh(\n",
    "    categories[5],\n",
    "    x=max_x - (max_x - others_x)/2,\n",
    "    y=max_y - ban_height - 2,\n",
    "    w=(max_x - others_x)/2,\n",
    "    h=ban_height\n",
    ")\n",
    "\n",
    "give_xywh(\n",
    "    categories[9],\n",
    "    x=others_x,\n",
    "    y=max_y - ban_height - 2,\n",
    "    w=(max_x - others_x)/2,\n",
    "    h=ban_height\n",
    ")"
   ]
  },
  {
   "cell_type": "code",
   "execution_count": null,
   "id": "89997f01-49dd-49c1-a5d1-7d6157e62d2d",
   "metadata": {},
   "outputs": [],
   "source": []
  },
  {
   "cell_type": "code",
   "execution_count": null,
   "id": "b7a6940d-ac71-4e82-b64f-a8c207fd5c62",
   "metadata": {},
   "outputs": [],
   "source": []
  },
  {
   "cell_type": "code",
   "execution_count": null,
   "id": "1cab3fe3-4253-42df-b551-e53d47656eac",
   "metadata": {},
   "outputs": [],
   "source": []
  },
  {
   "cell_type": "code",
   "execution_count": null,
   "id": "4601de0e-835f-4851-baeb-1fcdb1cfacb4",
   "metadata": {},
   "outputs": [],
   "source": []
  },
  {
   "cell_type": "code",
   "execution_count": null,
   "id": "78f51096-80f7-4618-997f-f0fe1086d2f6",
   "metadata": {},
   "outputs": [],
   "source": []
  },
  {
   "cell_type": "code",
   "execution_count": null,
   "id": "42663b9b-1b07-4564-b695-af752a4998cb",
   "metadata": {},
   "outputs": [],
   "source": []
  },
  {
   "cell_type": "code",
   "execution_count": null,
   "id": "191f9554-26c7-4b6a-8cdb-6c858aebda15",
   "metadata": {},
   "outputs": [],
   "source": []
  }
 ],
 "metadata": {
  "interpreter": {
   "hash": "10b89657356f91ec1356b795ebfcb9e9b65e0403a70d5adc7ceedc2f06bba4b3"
  },
  "kernelspec": {
   "display_name": "Python 3 (ipykernel)",
   "language": "python",
   "name": "python3"
  },
  "language_info": {
   "codemirror_mode": {
    "name": "ipython",
    "version": 3
   },
   "file_extension": ".py",
   "mimetype": "text/x-python",
   "name": "python",
   "nbconvert_exporter": "python",
   "pygments_lexer": "ipython3",
   "version": "3.10.0"
  }
 },
 "nbformat": 4,
 "nbformat_minor": 5
}
