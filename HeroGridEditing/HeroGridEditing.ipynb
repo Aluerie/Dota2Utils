{
 "cells": [
  {
   "cell_type": "markdown",
   "id": "b1244302-d539-4751-8376-b95906de39f4",
   "metadata": {},
   "source": [
    "### Dota Hero Grid Editor\n",
    "\n",
    "Hero grids are stored in the following `.json` file in the steam folder:\\\n",
    "`C:\\Program Files (x86)\\Steam\\userdata\\YOUR_FRIEND_ID\\570\\remote\\cfg\\hero_grid_config.json`\n",
    "\n",
    "Let's copy it into \n",
    "* our working directory - as **a dump file** to play with\n",
    "* subfolder `./saved` of it^ to keep as **a backup file** in case we do something illegal"
   ]
  },
  {
   "cell_type": "code",
   "execution_count": 1,
   "id": "1adfc4ab-f4ea-41a7-bb21-0ff809801267",
   "metadata": {
    "pycharm": {
     "is_executing": true
    }
   },
   "outputs": [],
   "source": [
    "# pretty self-explanatory but dota_utils give functions \n",
    "# to get hero names by their ids and vise versa\n",
    "from dota_utils import id_by_name, name_by_id\n",
    "\n",
    "import json\n",
    "import shutil\n",
    "from config import DOTA_FRIENDID\n",
    "\n",
    "steam_cfg_loc = f'C:\\\\Program Files (x86)\\\\Steam\\\\userdata\\\\{DOTA_FRIENDID}\\\\570\\\\remote\\\\cfg'\n",
    "json_rel_loc = '\\\\hero_grid_config.json'  # rel- relative  \n",
    "src_steam_cfg = f'{steam_cfg_loc}{json_rel_loc}'  # source\n",
    "dst_dump = '.'  # destination for dump\n",
    "dst_backup = './saved'  # destination for backup\n",
    "shutil.copy2(src_steam_cfg, dst_dump)\n",
    "_ = shutil.copy2(src_steam_cfg, dst_backup) # _ = just so it doesnt print into output"
   ]
  },
  {
   "cell_type": "markdown",
   "id": "81367818-1dd6-4f01-874c-7608f0b02532",
   "metadata": {},
   "source": [
    "### READ WRITE CELLS"
   ]
  },
  {
   "cell_type": "code",
   "execution_count": 2,
   "id": "316fb78e-229c-4dc5-9392-43c8fa442897",
   "metadata": {},
   "outputs": [],
   "source": [
    "# READ FROM DUMP FILE\n",
    "with open('hero_grid_config.json') as json_file:\n",
    "    data = json.load(json_file)\n",
    "\n",
    "def write_and_copy():\n",
    "    # WRITE INTO DUMP FILE \n",
    "    with open('hero_grid_config.json', 'w', encoding='utf-8') as f:\n",
    "        json.dump(data, f, ensure_ascii=False, indent=4)\n",
    "    \n",
    "    # COPY DUMP FILE BACK TO STEAM_CFG_LOC FOLDER WHEN WE ARE DONE\n",
    "    src_dump = dst_dump + json_rel_loc\n",
    "    shutil.copy2(src_dump, steam_cfg_loc)"
   ]
  },
  {
   "attachments": {},
   "cell_type": "markdown",
   "id": "a52bbccf-d952-4fb6-ab85-ec27ba141521",
   "metadata": {},
   "source": [
    "### Info to plan the Hero Grid\n",
    "`data` - is the dictionary that is gonna be dumped into the json file back. \n",
    "\n",
    "```python\n",
    "MAX_X = 1200\n",
    "MAX_Y = 598\n",
    "```\n",
    "remember that this is not \"pixels\" - it just means that hero grid is overall 1200x598 in its own Dota 2 coordinates for the json file.\n",
    "\n",
    "`data['configs'][0]` is my main Draft grid\\\n",
    "`data['configs'][1]` is Dota Plus levels grid"
   ]
  },
  {
   "attachments": {},
   "cell_type": "markdown",
   "id": "f8be644b-2441-42cd-b697-93b973dcc817",
   "metadata": {},
   "source": []
  },
  {
   "cell_type": "code",
   "execution_count": 3,
   "id": "ae34d657-6662-46fc-97dc-6f08f061d6ab",
   "metadata": {},
   "outputs": [],
   "source": [
    "from typing import Dict, NamedTuple \n",
    "\n",
    "MAX_X, MAX_Y = 1200, 598\n",
    "\n",
    "class P(NamedTuple):\n",
    "    x: int | float\n",
    "    y: int | float\n",
    "    w: int | float\n",
    "    h: int | float\n",
    "\n",
    "class Grid:\n",
    "    def __init__(self, config_index: int, categories: Dict[str, P]) -> None:\n",
    "        self.config_index: int = config_index\n",
    "        self.categories: Dict[str, P] = categories\n",
    "\n",
    "    def update_categories(self):\n",
    "        for category in data['configs'][self.config_index]['categories']:\n",
    "            try:\n",
    "                pos = self.categories[category['category_name']]\n",
    "            except KeyError as error:\n",
    "                raise KeyError(\n",
    "                    f'Category with name \"{error}\" does not exist in this hero grid.'\n",
    "                    'Please add this category into your actual grid in Dota 2 client or in file yourself.'\n",
    "                )\n",
    "            category['x_position'] = pos.x\n",
    "            category['y_position'] = pos.y\n",
    "            category['width'] = pos.w\n",
    "            category['height'] = pos.h"
   ]
  },
  {
   "cell_type": "markdown",
   "id": "20580004",
   "metadata": {},
   "source": [
    "### Dota Plus Levels Grid"
   ]
  },
  {
   "cell_type": "code",
   "execution_count": 4,
   "id": "00401140-b5a9-43ec-9873-256bb614bec4",
   "metadata": {},
   "outputs": [],
   "source": [
    "# changeable constants\n",
    "left_limit_x = 400  # the line between my left and right grid parts\n",
    "height = 100 \n",
    "delta = 20\n",
    "grind_h = 60  # the very last small row\n",
    "bronze5_sep_x = 200\n",
    "bronze_delta = 20\n",
    "bronze5_h = 160\n",
    "\n",
    "# Categories \n",
    "dota_plus_grid_categories = {  # match these names with the ones you have in the hero grid \n",
    "    'Grandmaster': P(x=0,  y=0, w=left_limit_x/2, h=height),\n",
    "    'Master': P(x=left_limit_x/2, y=0, w=left_limit_x/2, h=height),\n",
    "    'Platinum': P(x=0, y=height+delta, w=left_limit_x, h=height),\n",
    "    'Gold': P(x=0, y=2*(height+delta), w=left_limit_x, h=height),\n",
    "    'Silver': P(x=0, y=3*(height+delta), w=left_limit_x, h=MAX_Y - 3*(height+delta)),\n",
    "    'Bronze 5, >600xp': P(x=left_limit_x, y=0, w=bronze5_sep_x, h=bronze5_h),\n",
    "    'Bronze 5, <600xp': P(x=left_limit_x + bronze5_sep_x, y=0, w=MAX_X-left_limit_x-bronze5_sep_x, h=bronze5_h),\n",
    "    'Bronze 4-': P(x=left_limit_x, y=bronze_delta+bronze5_h, w=MAX_X-left_limit_x, h=MAX_Y-bronze_delta-delta-grind_h-bronze5_h),\n",
    "    'Grind': P(x=left_limit_x, y=MAX_Y-grind_h, w=MAX_X-left_limit_x, h=grind_h)\n",
    "}\n",
    "\n",
    "class DotaPlusGrid(Grid):\n",
    "    def __init__(self) -> None:\n",
    "        super().__init__(config_index=1, categories=dota_plus_grid_categories)\n",
    "\n",
    "    def sort_by_dota_plus_xp(self):\n",
    "        # todo: hmm, idk how to do it considering \n",
    "        # I have data private\n",
    "        # there is a way from Stratz to get it though\n",
    "        pass\n",
    "\n",
    "dota_plus_grid = DotaPlusGrid()\n",
    "dota_plus_grid.update_categories()\n",
    "write_and_copy()"
   ]
  },
  {
   "cell_type": "code",
   "execution_count": 5,
   "id": "489fc3da-7d49-4872-821b-8a479622d9ed",
   "metadata": {},
   "outputs": [
    {
     "data": {
      "text/plain": [
       "{'category_name': 'pos2',\n",
       " 'x_position': 0,\n",
       " 'y_position': 105.5,\n",
       " 'width': 577,\n",
       " 'height': 95,\n",
       " 'hero_ids': [21, 39, 46, 43, 25, 22, 74]}"
      ]
     },
     "execution_count": 5,
     "metadata": {},
     "output_type": "execute_result"
    }
   ],
   "source": [
    "data['configs'][0]['categories'][1]"
   ]
  },
  {
   "cell_type": "markdown",
   "id": "5e746688-b05b-4955-8a07-cb504afe12e8",
   "metadata": {},
   "source": [
    "### My default picking screen Grid"
   ]
  },
  {
   "cell_type": "code",
   "execution_count": 11,
   "id": "521f86b3-1415-4202-a758-97a60babc75c",
   "metadata": {},
   "outputs": [
    {
     "name": "stdout",
     "output_type": "stream",
     "text": [
      "10.5\n",
      "[231.8571428571429, 154.57142857142858, 154.57142857142858]\n"
     ]
    }
   ],
   "source": [
    "amount_heroes_left_column = ahl = 10\n",
    "left_limit_x = ahl * 58 - 3\n",
    "\n",
    "# positions\n",
    "height = 95\n",
    "rows = 5  # 5 positions in dota \n",
    "ban_height = 69\n",
    "ban_space = 12\n",
    "delta_pos = (MAX_Y - height * rows - ban_height - ban_space) / (rows - 1)\n",
    "print(delta_pos)\n",
    "\n",
    "# attributes\n",
    "delta_attr = 28\n",
    "max_attr_height = MAX_Y - 1  # -1 bcs idk bugs out :D \n",
    "amount_lines = {'Str': 3, 'Agi': 2, 'Int': 2}\n",
    "total_lines = sum(amount_lines.values())\n",
    "attr_heights = [(max_attr_height-2*delta_attr)/total_lines * i for i in amount_lines.values()]\n",
    "print(attr_heights) \n",
    "# idk how to get desired result with math\n",
    "attr_heights = [221, 160, 160]\n",
    "\n",
    "default_roles_grid_categories = {\n",
    "    f'pos{i+1}': P(x=0, y=0+(height+delta_pos)*i, w=left_limit_x, h=height)\n",
    "    for i in range(rows)\n",
    "} | {\n",
    "    name: P(x=left_limit_x, y=sum(attr_heights[0:i])+i*delta_attr, w=MAX_X-left_limit_x, h=attr_heights[i])\n",
    "    for i, name in enumerate(amount_lines.keys())\n",
    "} | {\n",
    "    name: P(\n",
    "        x=i*17/72*left_limit_x, \n",
    "        y=MAX_Y - ban_height, \n",
    "        w=2/9*left_limit_x, h=ban_height\n",
    "    )\n",
    "    for i, name in enumerate(['bans', 'Turbo bans'])\n",
    "} | {\n",
    "    'Grind/Arcana/D+/Style/Cavern': P(\n",
    "        x=34/72*left_limit_x, \n",
    "        y=MAX_Y - ban_height, \n",
    "        w=38/72*left_limit_x, h=ban_height\n",
    "    )\n",
    "}\n",
    "\n",
    "class DefaultRolesGrid(Grid):\n",
    "    def __init__(self) -> None:\n",
    "        super().__init__(config_index=0, categories=default_roles_grid_categories)\n",
    "\n",
    "    def sort_attr_categories_by_name(self):\n",
    "        for category in data['configs'][self.config_index]['categories']:\n",
    "            if category['category_name'] in ['Str', 'Agi', 'Int']:\n",
    "                hero_names = [name_by_id(i) for i in category['hero_ids']]\n",
    "                new_names = sorted(hero_names, key=str.casefold)\n",
    "\n",
    "                new_ids = [id_by_name(n) for n in new_names]\n",
    "                category['hero_ids'] = new_ids\n",
    "\n",
    "\n",
    "default_grid = DefaultRolesGrid()\n",
    "default_grid.update_categories()\n",
    "default_grid.sort_attr_categories_by_name()\n",
    "write_and_copy()"
   ]
  },
  {
   "cell_type": "code",
   "execution_count": null,
   "id": "89997f01-49dd-49c1-a5d1-7d6157e62d2d",
   "metadata": {},
   "outputs": [],
   "source": []
  },
  {
   "cell_type": "code",
   "execution_count": null,
   "id": "32f8497e",
   "metadata": {},
   "outputs": [],
   "source": []
  },
  {
   "cell_type": "code",
   "execution_count": null,
   "id": "2bccbba4",
   "metadata": {},
   "outputs": [],
   "source": []
  },
  {
   "cell_type": "code",
   "execution_count": null,
   "id": "abeff3e0",
   "metadata": {},
   "outputs": [],
   "source": []
  },
  {
   "cell_type": "code",
   "execution_count": null,
   "id": "647ae69f",
   "metadata": {},
   "outputs": [],
   "source": []
  },
  {
   "cell_type": "code",
   "execution_count": null,
   "id": "06de668b",
   "metadata": {},
   "outputs": [],
   "source": []
  }
 ],
 "metadata": {
  "kernelspec": {
   "display_name": "Python 3",
   "language": "python",
   "name": "python3"
  },
  "language_info": {
   "codemirror_mode": {
    "name": "ipython",
    "version": 3
   },
   "file_extension": ".py",
   "mimetype": "text/x-python",
   "name": "python",
   "nbconvert_exporter": "python",
   "pygments_lexer": "ipython3",
   "version": "3.11.0 (main, Oct 24 2022, 18:26:48) [MSC v.1933 64 bit (AMD64)]"
  },
  "vscode": {
   "interpreter": {
    "hash": "ffa085df8ee343272731e021d2c851f19f3dd588c16401add1c2ec7275514f60"
   }
  }
 },
 "nbformat": 4,
 "nbformat_minor": 5
}
