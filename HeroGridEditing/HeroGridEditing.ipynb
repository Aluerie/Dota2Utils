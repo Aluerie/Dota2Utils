{
 "cells": [
  {
   "cell_type": "markdown",
   "id": "b1244302-d539-4751-8376-b95906de39f4",
   "metadata": {},
   "source": [
    "### Dota Hero Grid Editor\n",
    "\n",
    "Hero grids are stored in the following `.json` file in the steam folder:\\\n",
    "`C:\\Program Files (x86)\\Steam\\userdata\\YOUR_FRIEND_ID\\570\\remote\\cfg\\hero_grid_config.json`\n",
    "\n",
    "Let's copy it into \n",
    "* our working directory - as **a dump file** to play with\n",
    "* subfolder `./saved` of it^ to keep as **a backup file** in case we do something illegal"
   ]
  },
  {
   "cell_type": "code",
   "execution_count": 1,
   "id": "1adfc4ab-f4ea-41a7-bb21-0ff809801267",
   "metadata": {
    "pycharm": {
     "is_executing": true
    }
   },
   "outputs": [],
   "source": [
    "# pretty self-explanatory but dota_utils give functions\n",
    "# to get hero names by their ids and vise versa\n",
    "import json\n",
    "import os\n",
    "import shutil\n",
    "\n",
    "from config import DOTA_FRIEND_ID\n",
    "from dota_utils import id_by_name, name_by_id\n",
    "\n",
    "steam_cfg_loc = f\"C:\\\\Program Files (x86)\\\\Steam\\\\userdata\\\\{DOTA_FRIEND_ID}\\\\570\\\\remote\\\\cfg\"\n",
    "json_rel_loc = \"\\\\hero_grid_config.json\"  # rel- relative\n",
    "src_steam_cfg = f\"{steam_cfg_loc}{json_rel_loc}\"  # source\n",
    "\n",
    "out_temp = \"./.temp\"\n",
    "if not os.path.isdir(out_temp):\n",
    "    os.mkdir(out_temp)\n",
    "\n",
    "dst_backup = \"./backup.json\"  # destination for backup\n",
    "shutil.copy2(src_steam_cfg, out_temp)\n",
    "_ = shutil.copy2(src_steam_cfg, f\"{out_temp}{dst_backup}\")  # _ = just so it doesn't print into output"
   ]
  },
  {
   "cell_type": "markdown",
   "id": "81367818-1dd6-4f01-874c-7608f0b02532",
   "metadata": {},
   "source": [
    "### READ WRITE CELLS"
   ]
  },
  {
   "cell_type": "code",
   "execution_count": 2,
   "id": "316fb78e-229c-4dc5-9392-43c8fa442897",
   "metadata": {},
   "outputs": [],
   "source": [
    "# READ FROM DUMP FILE\n",
    "with open(\".temp/hero_grid_config.json\") as json_file:\n",
    "    data = json.load(json_file)\n",
    "\n",
    "\n",
    "def write_and_copy():\n",
    "    # WRITE INTO DUMP FILE\n",
    "    with open(\".temp/hero_grid_config.json\", \"w\", encoding=\"utf-8\") as f:\n",
    "        json.dump(data, f, ensure_ascii=False, indent=4)\n",
    "\n",
    "    # COPY DUMP FILE BACK TO STEAM_CFG_LOC FOLDER WHEN WE ARE DONE\n",
    "    src_dump = out_temp + json_rel_loc\n",
    "    shutil.copy2(src_dump, steam_cfg_loc)"
   ]
  },
  {
   "attachments": {},
   "cell_type": "markdown",
   "id": "a52bbccf-d952-4fb6-ab85-ec27ba141521",
   "metadata": {},
   "source": [
    "### Info to plan the Hero Grid\n",
    "`data` - is the dictionary that is gonna be dumped into the json file back. \n",
    "\n",
    "```python\n",
    "MAX_X = 1200\n",
    "MAX_Y = 598\n",
    "```\n",
    "remember that this is not \"pixels\" - it just means that hero grid is overall 1200x598 in its own Dota 2 coordinates for the json file.\n",
    "\n",
    "`data['configs'][0]` is my main Draft grid\\\n",
    "`data['configs'][1]` is Dota Plus levels grid"
   ]
  },
  {
   "cell_type": "code",
   "execution_count": 22,
   "id": "ae34d657-6662-46fc-97dc-6f08f061d6ab",
   "metadata": {},
   "outputs": [],
   "source": [
    "from typing import NamedTuple\n",
    "\n",
    "MAX_X, MAX_Y = 1200, 592\n",
    "# MAX_Y = 599 before CROWN FALL UPDATE\n",
    "\n",
    "\n",
    "class P(NamedTuple):\n",
    "    x: int | float\n",
    "    y: int | float\n",
    "    w: int | float\n",
    "    h: int | float\n",
    "\n",
    "\n",
    "class Grid:\n",
    "    def __init__(self, config_index: int, categories: dict[str, P]) -> None:\n",
    "        self.config_index: int = config_index\n",
    "        self.categories: dict[str, P] = categories\n",
    "\n",
    "    def update_categories(self):\n",
    "        for category in data[\"configs\"][self.config_index][\"categories\"]:\n",
    "            try:\n",
    "                pos = self.categories[category[\"category_name\"]]\n",
    "            except KeyError as error:\n",
    "                raise KeyError(\n",
    "                    f'Category with name \"{error}\" does not exist in this hero grid.'\n",
    "                    \"Please add this category into your actual grid in Dota 2 client or in file yourself.\"\n",
    "                )\n",
    "            category[\"x_position\"] = pos.x\n",
    "            category[\"y_position\"] = pos.y\n",
    "            category[\"width\"] = pos.w\n",
    "            category[\"height\"] = pos.h"
   ]
  },
  {
   "cell_type": "markdown",
   "id": "20580004",
   "metadata": {},
   "source": [
    "### Dota Plus Levels Grid"
   ]
  },
  {
   "cell_type": "code",
   "execution_count": 23,
   "id": "00401140-b5a9-43ec-9873-256bb614bec4",
   "metadata": {},
   "outputs": [],
   "source": [
    "# changeable constants\n",
    "left_limit_x = 500  # the line between my left and right grid parts\n",
    "right_part_w = MAX_X - left_limit_x\n",
    "height = 100\n",
    "delta = 20\n",
    "silver_h_adjust = 60\n",
    "grind_w, grind_h = 560, 70  # the very last small row\n",
    "bronze_delta = 20\n",
    "bronze5_h = 120\n",
    "\n",
    "# Categories\n",
    "\n",
    "dota_plus_grid_categories = {  # match these names with the ones you have in the hero grid\n",
    "    \"Grandmaster\": P(\n",
    "        0,\n",
    "        0,\n",
    "        left_limit_x / 2,\n",
    "        height,\n",
    "    ),\n",
    "    \"Master\": P(left_limit_x / 2, 0, left_limit_x / 2, height),\n",
    "    \"Platinum\": P(0, height + delta, left_limit_x, height),\n",
    "    \"Gold\": P(0, 2 * (height + delta), left_limit_x, height),\n",
    "    \"Silver\": P(0, 3 * (height + delta), left_limit_x, MAX_Y - 3 * (height + delta) - silver_h_adjust),\n",
    "    \"Bronze 5, 475<=Xp\": P(left_limit_x, 0, right_part_w / 3, bronze5_h),\n",
    "    \"Bronze 5, 300<=Xp<475\": P(left_limit_x + right_part_w / 3, 0, right_part_w / 3, bronze5_h),\n",
    "    \"Bronze 5, XP<300\": P(left_limit_x + right_part_w * 2 / 3, 0, right_part_w / 3, bronze5_h),\n",
    "    \"Bronze 4-\": P(\n",
    "        left_limit_x, bronze_delta + bronze5_h, right_part_w, MAX_Y - bronze_delta - delta - bronze5_h - grind_h\n",
    "    ),\n",
    "    \"Grind\": P(left_limit_x, MAX_Y - grind_h, grind_w, grind_h),\n",
    "    \"Ban\": P(left_limit_x + grind_w, MAX_Y - grind_h, MAX_X - left_limit_x - grind_w, grind_h),\n",
    "}\n",
    "\n",
    "\n",
    "class DotaPlusGrid(Grid):\n",
    "    def __init__(self) -> None:\n",
    "        super().__init__(config_index=1, categories=dota_plus_grid_categories)\n",
    "\n",
    "    def sort_by_dota_plus_xp(self):\n",
    "        # todo: hmm, idk how to do it considering\n",
    "        # I have data private\n",
    "        # there is a way from Stratz to get it though\n",
    "        # it's not really accurate\n",
    "        pass\n",
    "\n",
    "\n",
    "dota_plus_grid = DotaPlusGrid()\n",
    "dota_plus_grid.update_categories()\n",
    "write_and_copy()"
   ]
  },
  {
   "cell_type": "code",
   "execution_count": 24,
   "id": "489fc3da-7d49-4872-821b-8a479622d9ed",
   "metadata": {},
   "outputs": [],
   "source": [
    "data[\"configs\"][1][\"categories\"][5][\"hero_ids\"] = [58, 44]"
   ]
  },
  {
   "cell_type": "markdown",
   "id": "5e746688-b05b-4955-8a07-cb504afe12e8",
   "metadata": {},
   "source": [
    "### My default picking screen Grid"
   ]
  },
  {
   "cell_type": "code",
   "execution_count": 25,
   "id": "521f86b3-1415-4202-a758-97a60babc75c",
   "metadata": {},
   "outputs": [
    {
     "name": "stdout",
     "output_type": "stream",
     "text": [
      "9.0\n",
      "[134.25, 134.25, 134.25, 134.25]\n",
      "537.0\n"
     ]
    }
   ],
   "source": [
    "amount_heroes_left_column = ahl = 10\n",
    "left_limit_x = ahl * 58 - 3\n",
    "\n",
    "# positions\n",
    "height = 95\n",
    "rows = 5  # 5 positions in dota\n",
    "ban_height = 69\n",
    "ban_space = 12\n",
    "delta_pos = (MAX_Y - height * rows - ban_height - ban_space) / (rows - 1)\n",
    "print(delta_pos)\n",
    "\n",
    "# attributes\n",
    "delta_attr = 18\n",
    "\n",
    "max_attr_height = MAX_Y - 1  # -1 bcs idk, scrollbar bugs out :D\n",
    "amount_lines = {\"Str\": 2, \"Agi\": 2, \"Int\": 2, \"Uni\": 2}\n",
    "total_lines = sum(amount_lines.values())\n",
    "attr_heights = [\n",
    "    (max_attr_height - (len(amount_lines) - 1) * delta_attr) / total_lines * i for i in amount_lines.values()\n",
    "]\n",
    "print(attr_heights)\n",
    "print(sum(attr_heights))\n",
    "# idk how to get desired result with math\n",
    "# attr_heights = [221, 160, 160]\n",
    "\n",
    "default_roles_grid_categories = (\n",
    "    {f\"pos{i+1}\": P(x=0, y=0 + (height + delta_pos) * i, w=left_limit_x, h=height) for i in range(rows)}\n",
    "    | {\n",
    "        name: P(x=left_limit_x, y=sum(attr_heights[0:i]) + i * delta_attr, w=MAX_X - left_limit_x, h=attr_heights[i])\n",
    "        for i, name in enumerate(amount_lines.keys())\n",
    "    }\n",
    "    | {\n",
    "        name: P(x=i * 17 / 72 * left_limit_x, y=MAX_Y - ban_height, w=2 / 9 * left_limit_x, h=ban_height)\n",
    "        for i, name in enumerate([\"bans\", \"Turbo bans\"])\n",
    "    }\n",
    "    | {\n",
    "        \"Grind/Arcana/D+/Style/Cavern\": P(\n",
    "            x=34 / 72 * left_limit_x, y=MAX_Y - ban_height, w=38 / 72 * left_limit_x, h=ban_height\n",
    "        )\n",
    "    }\n",
    ")\n",
    "\n",
    "\n",
    "class DefaultRolesGrid(Grid):\n",
    "    def __init__(self) -> None:\n",
    "        super().__init__(config_index=0, categories=default_roles_grid_categories)\n",
    "\n",
    "    def sort_attr_categories_by_name(self):\n",
    "        for category in data[\"configs\"][self.config_index][\"categories\"]:\n",
    "            if category[\"category_name\"] in [\"Str\", \"Agi\", \"Int\", \"Uni\"]:\n",
    "                hero_names = [name_by_id(i) for i in category[\"hero_ids\"]]\n",
    "                new_names = sorted(hero_names, key=str.casefold)\n",
    "\n",
    "                new_ids = [id_by_name(n) for n in new_names]\n",
    "                category[\"hero_ids\"] = new_ids\n",
    "\n",
    "\n",
    "default_grid = DefaultRolesGrid()\n",
    "default_grid.update_categories()\n",
    "default_grid.sort_attr_categories_by_name()\n",
    "write_and_copy()"
   ]
  },
  {
   "cell_type": "code",
   "execution_count": null,
   "id": "fd1f7f64",
   "metadata": {},
   "outputs": [],
   "source": []
  },
  {
   "cell_type": "code",
   "execution_count": null,
   "id": "627c351c",
   "metadata": {},
   "outputs": [],
   "source": []
  },
  {
   "cell_type": "code",
   "execution_count": null,
   "id": "38e1e3ee",
   "metadata": {},
   "outputs": [],
   "source": []
  }
 ],
 "metadata": {
  "kernelspec": {
   "display_name": "Python 3",
   "language": "python",
   "name": "python3"
  },
  "language_info": {
   "codemirror_mode": {
    "name": "ipython",
    "version": 3
   },
   "file_extension": ".py",
   "mimetype": "text/x-python",
   "name": "python",
   "nbconvert_exporter": "python",
   "pygments_lexer": "ipython3",
   "version": "3.12.1"
  },
  "vscode": {
   "interpreter": {
    "hash": "ffa085df8ee343272731e021d2c851f19f3dd588c16401add1c2ec7275514f60"
   }
  }
 },
 "nbformat": 4,
 "nbformat_minor": 5
}
