{
 "cells": [
  {
   "attachments": {},
   "cell_type": "markdown",
   "id": "fafa0f90-58e5-4172-869a-f9880d0a146d",
   "metadata": {},
   "source": [
    "# List of all Dota 2 emoticons as GIFs and unicode characters"
   ]
  },
  {
   "attachments": {},
   "cell_type": "markdown",
   "id": "74315a7f-c603-496d-b715-31c74868bc11",
   "metadata": {},
   "source": [
    "This notebook is a fork of [ListEmoticons.ipynb](https://github.com/rossengeorgiev/dota2_notebooks/blob/master/List%20Emoticons.ipynb) by [rossengeorgiev](https://github.com/rossengeorgiev).\n",
    "\n",
    "To see all emoticons - just visit the page \n",
    "\n",
    "# https://aluerie.github.io/Dota2Utils/ListEmoticons/\n",
    "\n",
    "---\n",
    "\n",
    "Nevertheless, The code below generates a list of all emoticons in dota and their unicode character. You can copy & paste the character into Dota 2 to use the emoticon. It doesn't matter if you don't own the emoticon pack."
   ]
  },
  {
   "attachments": {},
   "cell_type": "markdown",
   "id": "7e364ed9",
   "metadata": {},
   "source": [
    "### Required imports"
   ]
  },
  {
   "cell_type": "code",
   "execution_count": 2,
   "id": "f4b8b78b-4ca4-4f0d-8f1e-f22a186b69ab",
   "metadata": {},
   "outputs": [],
   "source": [
    "import os\n",
    "import vdf\n",
    "import vpk\n",
    "import shutil\n",
    "from datetime import datetime\n",
    "\n",
    "from typing import TypedDict, Dict\n",
    "\n",
    "from PIL import Image\n",
    "from IPython.core.display import HTML\n",
    "from tqdm import tqdm\n",
    "\n",
    "\n",
    "out_temp = \"./.temp\"\n",
    "out_dir = \"./gifs\"\n",
    "out_sizes = [96]  # [32, 96]"
   ]
  },
  {
   "attachments": {},
   "cell_type": "markdown",
   "id": "e6b7e7ab-a0ec-4331-8655-667ef9a2b7cd",
   "metadata": {},
   "source": [
    "### Get .vtex_c files into ./.temp/cache_vtex from your Dota 2 installation (Option 1)\n",
    "\n",
    "Now let's get list of emoticons from your local Dota 2 installation. "
   ]
  },
  {
   "cell_type": "code",
   "execution_count": 3,
   "id": "7d3a1d91-545c-40db-99cf-486dd3aef8d3",
   "metadata": {},
   "outputs": [],
   "source": [
    "pak1 = vpk.open(\"C:/Program Files (x86)/Steam/steamapps/common/dota 2 beta/game/dota/pak01_dir.vpk\")\n",
    "\n",
    "emoticons_definitions = vdf.loads(pak1[\"scripts/emoticons_definitions.txt\"].read().decode(\"utf-8\"))\n",
    "\n",
    "class EmoteDict(TypedDict):\n",
    "    image_name: str\n",
    "    ms_per_frame: str\n",
    "    aliases: Dict[str, str]\n",
    "\n",
    "class EmoticonsCategory(TypedDict):\n",
    "    utf: str\n",
    "    path: str\n",
    "    emoticons: Dict[str, EmoteDict]\n",
    "\n",
    "data: Dict[str, EmoticonsCategory] = {}\n",
    "\n",
    "for emote_name, vdf_path in emoticons_definitions['emoticons_definitions'].items():\n",
    "    utf: str = \"utf-16le\" if emote_name == 'default' else \"utf-8\" # imagine using utf-16le for just one old file :c \n",
    "    temp = vdf.loads(pak1[vdf_path].read().decode(utf))\n",
    "    temp_emoticons = temp['emoticons']\n",
    "    data[emote_name] = {\n",
    "        'utf': utf,\n",
    "        'path': vdf_path,\n",
    "        'emoticons': temp_emoticons\n",
    "    }"
   ]
  },
  {
   "cell_type": "code",
   "execution_count": 4,
   "id": "c7d9281f",
   "metadata": {},
   "outputs": [],
   "source": [
    "if not os.path.isdir(out_temp):\n",
    "    os.mkdir(out_temp)\n",
    "if not os.path.isdir(f\"{out_temp}/cache_vtex\"):\n",
    "    os.mkdir(f\"{out_temp}/cache_vtex\")\n",
    "\n",
    "for emote_name, category in data.items():\n",
    "\n",
    "    cache_path = f\"{out_temp}/cache_vtex/{emote_name}\"\n",
    "    if not os.path.isdir(cache_path):\n",
    "        os.mkdir(cache_path)\n",
    "\n",
    "    for k, v in category['emoticons'].items():\n",
    "\n",
    "        emote_name = v[\"image_name\"].replace(\".\", \"_\") + \".vtex_c\"\n",
    "        emoticon_path = f\"panorama/images/emoticons/{emote_name}\"\n",
    "\n",
    "        try:\n",
    "            subfolders = emote_name.rsplit('/', 1)\n",
    "            if len(subfolders) > 1:\n",
    "                os.makedirs(f\"{cache_path}/{subfolders[0]}\")\n",
    "        except Exception as e:\n",
    "            pass  # TODO: Better handling\n",
    "\n",
    "        try:\n",
    "            save_path = f\"{cache_path}/{emote_name}\"\n",
    "            pak1[emoticon_path].save(save_path)\n",
    "        except:\n",
    "            print(f\"Missing: {emoticon_path}\")"
   ]
  },
  {
   "attachments": {},
   "cell_type": "markdown",
   "id": "45f33b7a-da0e-4f52-a8fd-a0d1538cf478",
   "metadata": {},
   "source": [
    "### Get .vtex_c files into ./.temp/cache_vtex using SteamCTL (Option 2)\n",
    "\n",
    "Instead of getting emotes from local installation you can get the emoticons using [SteamCTL](https://pypi.org/project/steamctl/) ([GitHub link](https://github.com/ValvePython/steamctl)). Install it with \n",
    "```\n",
    "pip install steamctl\n",
    "```\n",
    "And in the root of iPython notebook use these commands in Windows Terminal (it will prompt to login into steam)  to get a list of all emoticons and all `.vtex_c` files:\n",
    "```ps1\n",
    "steamctl depot download -a 570 --vpk -n '*pak01_dir*:*emoticons.txt' -nd -o ./.temp/\n",
    "steamctl depot download -a 570 --vpk -n '*pak01_dir*:*emoticons/*.vtex_c' -nd -o ./.temp/cache_vtex_c\n",
    "```\n",
    "\n",
    "But if you have Dota 2 installed and successfully run the cell above then there is no need in `steamctl`."
   ]
  },
  {
   "cell_type": "code",
   "execution_count": 5,
   "id": "a67cbb9e-7358-446b-b36c-057048553162",
   "metadata": {},
   "outputs": [],
   "source": [
    "# If you decide to use steamctl method then uncomment the following line:\n",
    "# data = vdf.loads(open(f'{out_temp}/emoticons.txt', 'rb').read().decode('utf-16le'))\n",
    "# i didnt code the part which grabs all required files with steamctl like ranked/fancontent emotes "
   ]
  },
  {
   "attachments": {},
   "cell_type": "markdown",
   "id": "b88b3770-9e5b-474c-85b2-f53122aa0149",
   "metadata": {},
   "source": [
    "### Decompile .vtex_c files into .png series of frames\n",
    "\n",
    "Download VRF \"CLI Decompiler for windows-x64\" from https://vrf.steamdb.info/ and put the path to it into the following cell after exclamation mark (`!`). "
   ]
  },
  {
   "cell_type": "code",
   "execution_count": 6,
   "id": "025c426a-cffa-4482-b3f8-efb7e0b0a3c9",
   "metadata": {},
   "outputs": [],
   "source": [
    "if not os.path.isdir(f\"{out_temp}/cache_png\"):\n",
    "    os.mkdir(f\"{out_temp}/cache_png\")\n",
    "\n",
    "!\"C:/Program Portable/VRF CLI Decompiler/Decompiler.exe\" -i \"$out_temp/cache_vtex\" -o \"$out_temp/cache_png\" --recursive > NUL"
   ]
  },
  {
   "attachments": {},
   "cell_type": "markdown",
   "id": "60ba1b83",
   "metadata": {},
   "source": [
    "> **Warning**\n",
    "\n",
    "`Decompiler.exe` might ignore `-o` flag and send all pictures into root of D: disk. I think it happens when `.exe` is not on disk `C:`. Maybe a bug? Anyway, if that happens then we have to fix it ourself.\n",
    "\n",
    "So if that happens, uncomment the following cell and move files to our desired `$out_temp/cache_png`."
   ]
  },
  {
   "cell_type": "code",
   "execution_count": 7,
   "id": "d0e8a403-1af5-4074-8887-2871065bd65c",
   "metadata": {},
   "outputs": [],
   "source": [
    "# source = \"D:\\\\\"\n",
    "# dest = \"D:\\\\LAPTOP\\\\Dota2Utils\\\\ListEmoticons\\\\.temp\\\\cache\"\n",
    "\n",
    "# files = os.listdir(source)\n",
    "# img_extensions = (\".jpg\", \".gif\", \".png\")\n",
    "# for f in files:\n",
    "#     if f.endswith(img_extensions):\n",
    "#         shutil.move(source + f, dest)"
   ]
  },
  {
   "cell_type": "code",
   "execution_count": 8,
   "id": "6915bbb6-7568-40a6-8080-82fe08ed90a9",
   "metadata": {},
   "outputs": [],
   "source": [
    "# create ./gifs folder\n",
    "if not os.path.isdir(out_dir):\n",
    "    os.mkdir(out_dir)"
   ]
  },
  {
   "attachments": {},
   "cell_type": "markdown",
   "id": "ab37f99c-e804-45f4-8721-52fe742823c2",
   "metadata": {},
   "source": [
    "### Generate .gif files combining .png frame-series from the previous step\n",
    "\n",
    "For the next cell install ImageMagick from https://imagemagick.org/script/download.php#windows \n",
    "* At the time, I used portable `ImageMagick-7.1.1-8-portable-Q16-HDRI-x64.zip` edition myself.\n",
    "\n",
    "> **Warning**\n",
    "> If you are looking at the following cell from github then if it is not showing correctly then the reason is the strings in the code have HTML elements which GitHub just eats. Download Notebook file itself instead of copypasting it from GitHub page.\n",
    "\n",
    "The script creates `.gif`-files that are missing from `gifs` folder. \n",
    "\n",
    "It also creates `resp` which presents HTML tables containing all the emotes."
   ]
  },
  {
   "cell_type": "code",
   "execution_count": 9,
   "id": "eb9b705a-80e9-4727-aaed-b182c497a72c",
   "metadata": {},
   "outputs": [
    {
     "name": "stderr",
     "output_type": "stream",
     "text": [
      "100%|██████████| 233/233 [00:01<00:00, 163.59it/s]"
     ]
    },
    {
     "name": "stdout",
     "output_type": "stream",
     "text": [
      "❤️❤️❤️ DONE!!! ❤️❤️❤️\n"
     ]
    },
    {
     "name": "stderr",
     "output_type": "stream",
     "text": [
      "\n"
     ]
    }
   ],
   "source": [
    "table_headers = \"<table><tr>\" + f\"<th colspan={len(out_sizes)}>preview</th><th>chr</th><th>alias</th>\" * 3 + \"</tr>\\n\"\n",
    "\n",
    "table_headers = '''\n",
    "| preview | chr | alias | preview | chr | alias | preview | chr | alias |\n",
    "| ---     | --- | ---   | ---     | --- | ---   |     --- | --- |   --- |\n",
    "'''\n",
    "\n",
    "def clear_temp_from_pngs_for_gif():\n",
    "    \"\"\"\n",
    "    We are saving .png frame files into temp but we need to clean it up bcs\n",
    "    if gif 1 has 40 frames and gif 2 has 30 frames. \n",
    "    the tool wont remove last 10 frames from gif1 by itself. \n",
    "    \"\"\"\n",
    "    for x in os.listdir(out_temp):\n",
    "        if not x.endswith(\".png\"):\n",
    "            continue\n",
    "        os.remove(os.path.join(out_temp, x))\n",
    "\n",
    "global_counter = 0\n",
    "counter = 0\n",
    "\n",
    "resp = ''\n",
    "\n",
    "for name, category in tqdm(data.items()):\n",
    "\n",
    "    resp += f'## {name.capitalize()}\\n'\n",
    "    resp += table_headers\n",
    "    \n",
    "    for counter, (k, v) in tqdm(enumerate(category['emoticons'].items()), leave=False):\n",
    "        emote_name = f\"{v['image_name'].replace('.', '_')}.png\"\n",
    "        try:\n",
    "            f = open(f\"{out_temp}/cache_png/{name}/{emote_name}\", 'rb')\n",
    "        except IOError:\n",
    "            print(emote_name, 'IOError')  # TODO: Better handling\n",
    "            continue\n",
    "        out_paths = [f\"{out_dir}/{int(k):0>3d}_{size:d}.gif\" for size in out_sizes]\n",
    "\n",
    "        # if a gif doesn't exist generate it\n",
    "        if not all(map(os.path.isfile, out_paths)):  \n",
    "            clear_temp_from_pngs_for_gif()\n",
    "\n",
    "            # split the png sequence in seperate files                              \n",
    "            im = Image.open(f)\n",
    "            for out_path, size in zip(out_paths, out_sizes):\n",
    "                for i in range(im.size[0] // 32):\n",
    "                    im.crop((i * 32, 0, (i + 1) * 32, 32))\\\n",
    "                    .resize((size, size), Image.NEAREST)\\\n",
    "                    .save(f\"{out_temp}/{i:0>3d}.png\")\n",
    "                # combines the sequence images into a gif using ImageMagick\n",
    "                !\"C:/Program Portable/ImageMagick/convert\" -loop 0 -delay 10 -alpha set -dispose background \"$out_temp/*.png\" \"$out_path\"\n",
    "        \n",
    "        # generate table cells for emoticon\n",
    "        if counter % 3 == 0:\n",
    "            resp += \"\"    \n",
    "        for path in out_paths:\n",
    "            resp += f\"| ![emoticon]({path})\"\n",
    "        resp += f\"| {chr(0xE000 + int(k)):s} | `:{v['aliases']['0']:s}:`\"\n",
    "        if counter % 3 == 2:\n",
    "            resp += \" |\\n\"\n",
    "\n",
    "    clear_temp_from_pngs_for_gif()\n",
    "    if counter % 3 != 2:\n",
    "        resp += \" |\\n\"\n",
    "    resp += \"\\n\"\n",
    "\n",
    "    global_counter += counter + 1\n",
    "\n",
    "print('❤️❤️❤️ DONE!!! ❤️❤️❤️')"
   ]
  },
  {
   "attachments": {},
   "cell_type": "markdown",
   "id": "85625fee",
   "metadata": {},
   "source": [
    "### Build README.md page\n",
    "\n",
    "This page is used in GitHub pages, so it's really important to compile it."
   ]
  },
  {
   "cell_type": "code",
   "execution_count": 10,
   "id": "1a0120e5-4a20-4abe-95f1-fde735cc75e1",
   "metadata": {},
   "outputs": [],
   "source": [
    "today_stats = f\"\"\"\n",
    "<table>\n",
    "      <tr><td>Last Updated</td><td>{datetime.today().strftime(\"%d/%B/%Y\")}</td></tr>\n",
    "      <tr><td>Amount of emoticons listed</td><td>{global_counter}</td></tr>\n",
    "</table>\n",
    "\n",
    "\"\"\"\n",
    "\n",
    "with open(\"./README.md\", \"r\", encoding=\"utf-8\") as file:\n",
    "    file_lines = file.readlines()\n",
    "    old_lines = []\n",
    "    for line in file_lines:\n",
    "        if not line.startswith(\"## Table of Dota 2 Emoticons\"):\n",
    "            old_lines.append(line)\n",
    "        else:\n",
    "            old_lines.append(\"## Table of Dota 2 Emoticons\\n\")\n",
    "            old_lines.append(today_stats)\n",
    "            break\n",
    "\n",
    "with open(\"./README.md\", \"w\", encoding=\"utf-8\") as file:\n",
    "    file.writelines(old_lines)\n",
    "\n",
    "with open(\"./README.md\", \"a\", encoding=\"utf-8\") as file:\n",
    "    file.write(resp)"
   ]
  },
  {
   "attachments": {},
   "cell_type": "markdown",
   "id": "8f55b67a",
   "metadata": {},
   "source": [
    "### Practice zone\n",
    "\n",
    "Well, you can still play more with the data."
   ]
  },
  {
   "cell_type": "code",
   "execution_count": 50,
   "id": "9e3b0aa7-cb98-4efa-8899-b5f897ccccd2",
   "metadata": {},
   "outputs": [
    {
     "name": "stdout",
     "output_type": "stream",
     "text": [
      "Amount of emoticons listed: 1487\n"
     ]
    }
   ],
   "source": [
    "print(f\"Amount of emoticons listed: {global_counter}\")\n",
    "# HTML(resp)"
   ]
  }
 ],
 "metadata": {
  "kernelspec": {
   "display_name": "Python 3 (ipykernel)",
   "language": "python",
   "name": "python3"
  },
  "language_info": {
   "codemirror_mode": {
    "name": "ipython",
    "version": 3
   },
   "file_extension": ".py",
   "mimetype": "text/x-python",
   "name": "python",
   "nbconvert_exporter": "python",
   "pygments_lexer": "ipython3",
   "version": "3.11.3"
  }
 },
 "nbformat": 4,
 "nbformat_minor": 5
}
