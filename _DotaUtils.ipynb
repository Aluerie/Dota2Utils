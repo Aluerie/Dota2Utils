{
 "cells": [
  {
   "cell_type": "markdown",
   "id": "78181daa-6fee-410e-a721-d9c2bd8909d8",
   "metadata": {},
   "source": [
    "### Dota Plus Post Message in Social Feed\n",
    "\n",
    "Valve removed interface to send messages in your profile Social Feed but GameCoordinator Proto messages are still there\n",
    "\n",
    "Change `MSG` to what you want to post and `STEAM_LGN`, `STEAM_PSW` pair in `.env` file."
   ]
  },
  {
   "cell_type": "code",
   "execution_count": null,
   "id": "1eba43b7-1322-44a7-a99f-28dc32793210",
   "metadata": {},
   "outputs": [],
   "source": [
    "from steam.client import SteamClient\n",
    "from dota2.client import Dota2Client\n",
    "from dota2.enums import EDOTAGCMsg\n",
    "\n",
    "import os\n",
    "from dotenv import load_dotenv\n",
    "load_dotenv(dotenv_path='env.env', verbose=True)\n",
    "STEAM_LGN = os.getenv(\"STEAM_LGN\") # type: ignore\n",
    "STEAM_PSW = os.getenv(\"STEAM_PSW\") # type: ignore\n",
    "\n",
    "MSG = \"You can see me drinking Cherry Cola... Sweet serial killer, I left a love note...\"\n",
    "\n",
    "class TestDota:\n",
    "    def __init__(self, client, dota):\n",
    "        self.client = client\n",
    "        self.dota = dota\n",
    "        self._StartDota = self.client.on('logged_on')(self.StartDota)\n",
    "        self._LobbyLoop = self.dota.on('ready')(self.mypc)\n",
    "        self.mypc_response = self.dota.on(EDOTAGCMsg.EMsgGCToClientSocialFeedPostMessageResponse)(self.__handle_mypc)\n",
    "\n",
    "    def mypc(self):\n",
    "        print(MSG)\n",
    "        self.dota.send(EDOTAGCMsg.EMsgClientToGCSocialFeedPostMessageRequest, {'message': MSG})\n",
    "\n",
    "    def __handle_mypc(self, message):\n",
    "        print(message)\n",
    "        self.dota.emit('my_message_sent', message)\n",
    "\n",
    "    def StartDota(self):\n",
    "        print('Starting Dota GC communication')\n",
    "        self.dota.launch()\n",
    "\n",
    "\n",
    "client = SteamClient()\n",
    "dota = Dota2Client(client)\n",
    "\n",
    "test_dota = TestDota(client, dota)\n",
    "client.cli_login(username=STEAM_LGN, password=STEAM_PSW)\n",
    "client.run_forever()"
   ]
  },
  {
   "cell_type": "code",
   "execution_count": null,
   "id": "a983a4eb-dacb-49c4-a87a-303f18de6ea0",
   "metadata": {},
   "outputs": [],
   "source": []
  },
  {
   "cell_type": "markdown",
   "id": "fe602b38-5324-4d1e-8ad6-881fccca376d",
   "metadata": {},
   "source": [
    "### Utils for Dota 2 things \n",
    "\n",
    "this is toned down non-async copy of code from my discord bot ; \\\n",
    "but we also need it for some sandbox snippets"
   ]
  },
  {
   "cell_type": "code",
   "execution_count": 5,
   "id": "484b9f21-5ab6-45ed-a427-105b1ca174e5",
   "metadata": {},
   "outputs": [
    {
     "data": {
      "text/plain": [
       "123"
      ]
     },
     "execution_count": 5,
     "metadata": {},
     "output_type": "execute_result"
    }
   ],
   "source": [
    "import requests\n",
    "\n",
    "\n",
    "def opendota_constants_heroes():\n",
    "    endpoint = 'https://api.opendota.com/api/constants/heroes'\n",
    "    response = requests.get(endpoint)\n",
    "    dic = response.json()\n",
    "\n",
    "    data = {\n",
    "        'id_by_npcname':\n",
    "            {'': 0},\n",
    "        'id_by_name':\n",
    "            {'bot_game': 0},\n",
    "        'name_by_id':\n",
    "            {0: 'bot_game'},\n",
    "        'iconurl_by_id':\n",
    "            {0: \"https://static.wikia.nocookie.net/dota2_gamepedia/images/3/3d/Greater_Mango_icon.png\"}\n",
    "    }\n",
    "    for hero in dic:\n",
    "        data['id_by_npcname'][dic[hero]['name']] = dic[hero]['id']\n",
    "        data['id_by_name'][dic[hero]['localized_name']] = dic[hero]['id']\n",
    "        data['name_by_id'][dic[hero]['id']] = dic[hero]['localized_name']\n",
    "        data['iconurl_by_id'][dic[hero]['id']] = f\"https://cdn.cloudflare.steamstatic.com/{dic[hero]['img']}\"\n",
    "    return data\n",
    "\n",
    "hero_keys_cache = opendota_constants_heroes()\n",
    "\n",
    "async def id_by_npcname(value: str) -> int:\n",
    "    \"\"\" Get hero id by npcname ;\n",
    "    example: 'npc_dota_hero_antimage' -> 1 \"\"\"\n",
    "    return hero_keys_cache['id_by_npcname'][value]\n",
    "\n",
    "\n",
    "async def id_by_name(value: str) -> int:\n",
    "    \"\"\" Get hero id by localized to english name ;\n",
    "    example: 'Anti-Mage' -> 1 \"\"\"\n",
    "    return hero_keys_cache['id_by_name'][value]\n",
    "\n",
    "\n",
    "async def name_by_id(value: int) -> str:\n",
    "    \"\"\" Get hero id by name ;\n",
    "    example: 1 -> 'Anti-Mage' \"\"\"\n",
    "    return hero_keys_cache['name_by_id'][value]\n",
    "\n",
    "\n",
    "async def iconurl_by_id(value: int) -> str:\n",
    "    \"\"\" Get hero icon utl id by id ;\n",
    "    example: 1 -> 'https://cdn.cloudflare.steamstatic.com//apps/dota2/images/dota_react/heroes/antimage.png?' \"\"\"\n",
    "    return hero_keys_cache['iconurl_by_id'][value]\n",
    "\n",
    "# How many heroes are in Dota ?\n",
    "len(hero_keys_cache['id_by_name']) - 1 # minus one for that zero value"
   ]
  },
  {
   "cell_type": "markdown",
   "id": "b1244302-d539-4751-8376-b95906de39f4",
   "metadata": {},
   "source": [
    "### Dota Hero Grid Editor\n",
    "\n",
    "Json file in steam folder:\\\n",
    "`C:\\Program Files (x86)\\Steam\\userdata\\YOUR_FRIEND_ID\\570\\remote\\cfg\\hero_grid_config.json`\n",
    "\n",
    "Some useful info:\n",
    "```python\n",
    "max_x = 1200\n",
    "max_y = 598\n",
    "```\n",
    "`data['configs'][0]` is my main grid\\\n",
    "`data['configs'][1]` is Dota Plus levels grid"
   ]
  },
  {
   "cell_type": "code",
   "execution_count": null,
   "id": "1adfc4ab-f4ea-41a7-bb21-0ff809801267",
   "metadata": {},
   "outputs": [],
   "source": [
    "import os\n",
    "from dotenv import load_dotenv\n",
    "load_dotenv(dotenv_path='env.env', verbose=True)\n",
    "\n",
    "YOUR_FRIEND_ID = os.getenv('DOTA_FRIENDID')\n",
    "print(f'C:\\\\Program Files (x86)\\\\Steam\\\\userdata\\\\{YOUR_FRIEND_ID}\\\\570\\\\remote\\\\cfg\\\\hero_grid_config.json')\n",
    "\n",
    "# do not forget to clear output"
   ]
  },
  {
   "cell_type": "code",
   "execution_count": null,
   "id": "316fb78e-229c-4dc5-9392-43c8fa442897",
   "metadata": {},
   "outputs": [],
   "source": [
    "import json\n",
    "# READ FROM FILE\n",
    "with open('hero_grid_config.json') as json_file:\n",
    "    data = json.load(json_file)"
   ]
  },
  {
   "cell_type": "code",
   "execution_count": 196,
   "id": "2ebcd1b1-97ea-4b40-b551-af3e8985669c",
   "metadata": {},
   "outputs": [],
   "source": [
    "# WRITE INTO FILE \n",
    "with open('hero_grid_config.json', 'w', encoding='utf-8') as f:\n",
    "    json.dump(data, f, ensure_ascii=False, indent=4)"
   ]
  },
  {
   "cell_type": "code",
   "execution_count": null,
   "id": "8a31b5a0-f11d-4865-9730-6adc9075aeb1",
   "metadata": {},
   "outputs": [],
   "source": []
  },
  {
   "cell_type": "markdown",
   "id": "f8be644b-2441-42cd-b697-93b973dcc817",
   "metadata": {},
   "source": [
    "### Dota Plus Levels Grid"
   ]
  },
  {
   "cell_type": "code",
   "execution_count": 195,
   "id": "00401140-b5a9-43ec-9873-256bb614bec4",
   "metadata": {},
   "outputs": [],
   "source": [
    "dict_help = {\n",
    "    'Grandmaster': [0, 0, 300, 100],\n",
    "    'Master':      [300, 0, 300, 100],\n",
    "    'Platinum':    [600, 0, 600, 100],\n",
    "    'Gold':        [0, 115, 600, 100],\n",
    "    'Silver':      [600, 115, 600, 100],\n",
    "    'Bronze':      [0, 230, 1200, 275],\n",
    "    'Level 0':     [0, 530, 1200, 68],\n",
    "}\n",
    "\n",
    "for cat in data['configs'][1]['categories']:\n",
    "    array = dict_help[cat['category_name']]\n",
    "    cat['x_position'] = array[0]\n",
    "    cat['y_position'] = array[1]\n",
    "    cat['width'] = array[2]\n",
    "    cat['height'] = array[3]"
   ]
  },
  {
   "cell_type": "code",
   "execution_count": 189,
   "id": "489fc3da-7d49-4872-821b-8a479622d9ed",
   "metadata": {},
   "outputs": [
    {
     "data": {
      "text/plain": [
       "{'category_name': 'bans',\n",
       " 'x_position': 925,\n",
       " 'y_position': 529.0,\n",
       " 'width': 275,\n",
       " 'height': 69.0,\n",
       " 'hero_ids': [137, 88]}"
      ]
     },
     "execution_count": 189,
     "metadata": {},
     "output_type": "execute_result"
    }
   ],
   "source": [
    "data['configs'][0]['categories'][-1]"
   ]
  },
  {
   "cell_type": "code",
   "execution_count": null,
   "id": "5e746688-b05b-4955-8a07-cb504afe12e8",
   "metadata": {},
   "outputs": [],
   "source": []
  },
  {
   "cell_type": "code",
   "execution_count": null,
   "id": "521f86b3-1415-4202-a758-97a60babc75c",
   "metadata": {},
   "outputs": [],
   "source": []
  },
  {
   "cell_type": "code",
   "execution_count": null,
   "id": "83a16eb5-ee22-47ca-81b7-a96367aff309",
   "metadata": {},
   "outputs": [],
   "source": []
  },
  {
   "cell_type": "code",
   "execution_count": null,
   "id": "d23206e0-2d48-4278-97e0-0929e0bd6772",
   "metadata": {},
   "outputs": [],
   "source": []
  },
  {
   "cell_type": "code",
   "execution_count": null,
   "id": "71d627da-17ee-4338-97ea-24e8ac0cbdfc",
   "metadata": {},
   "outputs": [],
   "source": []
  },
  {
   "cell_type": "code",
   "execution_count": null,
   "id": "10ba96da-1409-421d-8865-9a7f7d861340",
   "metadata": {},
   "outputs": [],
   "source": []
  },
  {
   "cell_type": "code",
   "execution_count": null,
   "id": "80db7e4e-a0d3-4269-b29b-0bbbe321dfa0",
   "metadata": {},
   "outputs": [],
   "source": []
  },
  {
   "cell_type": "code",
   "execution_count": null,
   "id": "a70e89ab-f3b4-4129-aafa-78bf7765b945",
   "metadata": {},
   "outputs": [],
   "source": []
  },
  {
   "cell_type": "code",
   "execution_count": null,
   "id": "fb792790-db3c-4da9-b2fb-fb956b9c5267",
   "metadata": {},
   "outputs": [],
   "source": []
  },
  {
   "cell_type": "markdown",
   "id": "563c15f7-41ab-4abf-b8b8-53442c4ab697",
   "metadata": {
    "tags": []
   },
   "source": [
    "### My default picking screen Grid"
   ]
  },
  {
   "cell_type": "code",
   "execution_count": null,
   "id": "c11f841c-ed6b-499d-ae3b-e6557086b555",
   "metadata": {},
   "outputs": [],
   "source": [
    "names = []\n",
    "for i in data['configs'][0]['categories'][0]['hero_ids']:\n",
    "    names.append(name_by_id(i))\n",
    "    \n",
    "new_names = sorted(names, key=str.casefold)\n",
    "\n",
    "new_ids = []\n",
    "for i in new_names:\n",
    "    new_ids.append(id_by_name(i))\n",
    "    \n",
    "data['configs'][0]['categories'][0]['hero_ids'] = new_ids\n",
    "print(new_ids)"
   ]
  },
  {
   "cell_type": "code",
   "execution_count": null,
   "id": "42400264-5b53-4ef8-bfdd-c624e0c23bfe",
   "metadata": {},
   "outputs": [],
   "source": [
    "max_x = 1200\n",
    "max_y = 598\n",
    "\n",
    "height = 100\n",
    "delta_y = (max_y - 5 * height)/4\n",
    "\n",
    "pos_w = 7 * 58 # 7 for seven heroes in pos 1\n",
    "others_x = pos_w + 1\n",
    "\n",
    "counter = 0\n",
    "for item in data['configs'][0]['categories'][1:]:\n",
    "    item['x_position'] = 0\n",
    "    item['y_position'] = 0 + (height + delta_y) * counter\n",
    "    item['height'] = height\n",
    "    item['width'] = pos_w\n",
    "    #print(item['category_name'], len(item['hero_ids']), item['hero_ids'])\n",
    "    counter += 1\n",
    "    \n",
    "last_item = data['configs'][0]['categories'][0]\n",
    "last_item['x_position'] = others_x \n",
    "last_item['y_position'] = 0\n",
    "last_item['height'] = max_y\n",
    "last_item['width'] = max_x - others_x "
   ]
  },
  {
   "cell_type": "code",
   "execution_count": null,
   "id": "89997f01-49dd-49c1-a5d1-7d6157e62d2d",
   "metadata": {},
   "outputs": [],
   "source": []
  }
 ],
 "metadata": {
  "interpreter": {
   "hash": "10b89657356f91ec1356b795ebfcb9e9b65e0403a70d5adc7ceedc2f06bba4b3"
  },
  "kernelspec": {
   "display_name": "Python 3 (ipykernel)",
   "language": "python",
   "name": "python3"
  },
  "language_info": {
   "codemirror_mode": {
    "name": "ipython",
    "version": 3
   },
   "file_extension": ".py",
   "mimetype": "text/x-python",
   "name": "python",
   "nbconvert_exporter": "python",
   "pygments_lexer": "ipython3",
   "version": "3.10.0"
  }
 },
 "nbformat": 4,
 "nbformat_minor": 5
}
